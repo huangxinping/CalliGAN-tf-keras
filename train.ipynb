{
 "cells": [
  {
   "cell_type": "code",
   "execution_count": 1,
   "id": "e44ca9b8",
   "metadata": {},
   "outputs": [],
   "source": [
    "import os\n",
    "os.environ[\"CUDA_VISIBLE_DEVICES\"] = \"0\""
   ]
  },
  {
   "cell_type": "markdown",
   "id": "4853f09e",
   "metadata": {},
   "source": [
    "# 导入环境"
   ]
  },
  {
   "cell_type": "code",
   "execution_count": 2,
   "id": "94a674cc",
   "metadata": {
    "ExecuteTime": {
     "end_time": "2022-09-16T09:11:10.768091Z",
     "start_time": "2022-09-16T09:11:10.741337Z"
    }
   },
   "outputs": [
    {
     "name": "stdout",
     "output_type": "stream",
     "text": [
      "2.9.0\n",
      "0.17.1\n",
      "Eager mode:  True\n",
      "Keras version 2.9.0\n",
      "GPU is available\n"
     ]
    }
   ],
   "source": [
    "import tensorflow as tf\n",
    "import tensorflow_addons as tfa\n",
    "import os\n",
    "from pathlib import Path\n",
    "import numpy as np\n",
    "import matplotlib.pyplot as plt\n",
    "\n",
    "from model import CalliGAN, CalliGANGenerator, CalliGANDataset\n",
    "\n",
    "%matplotlib inline\n",
    "\n",
    "print(tf.__version__)\n",
    "print(tfa.__version__)\n",
    "print(\"Eager mode: \", tf.executing_eagerly())\n",
    "print(\"Keras version\", tf.keras.__version__)\n",
    "print(\"GPU is\", \"available\" if tf.config.experimental.list_physical_devices(\"GPU\") else \"NOT AVAILABLE\")"
   ]
  },
  {
   "cell_type": "markdown",
   "id": "aad3d378",
   "metadata": {},
   "source": [
    "# 回调"
   ]
  },
  {
   "cell_type": "code",
   "execution_count": 4,
   "id": "1bdf2114",
   "metadata": {
    "ExecuteTime": {
     "end_time": "2022-09-16T08:46:05.909379Z",
     "start_time": "2022-09-16T08:46:05.863619Z"
    }
   },
   "outputs": [],
   "source": [
    "class LearnRateDecayScheduler(tf.keras.callbacks.Callback):\n",
    "    \n",
    "    def __init(self):\n",
    "        super(LearnRateDecayScheduler, self).__init__()\n",
    "        \n",
    "    def on_epoch_begin(self, epoch, logs=None):\n",
    "        if not hasattr(self.model.d_optimizer, \"lr\") or not hasattr(self.model.g_optimizer, \"lr\"):\n",
    "            raise ValueError('Optimizer must have a \"lr\" attribute.')\n",
    "        lr = float(tf.keras.backend.get_value(self.model.d_optimizer.learning_rate))\n",
    "        if (epoch+1) % 10 == 0:\n",
    "            lr = lr / 2.0\n",
    "            lr = max(lr, 0.0002)\n",
    "        tf.keras.backend.set_value(self.model.d_optimizer.lr, lr)\n",
    "        tf.keras.backend.set_value(self.model.g_optimizer.lr, lr)\n",
    "\n",
    "        \n",
    "class TerminateOnNaN(tf.keras.callbacks.Callback):\n",
    "\n",
    "    def __init__(self):\n",
    "        super().__init__()\n",
    "        self._supports_tf_logs = True\n",
    "\n",
    "    def on_batch_end(self, batch, logs=None):\n",
    "        logs = logs or {}\n",
    "        loss = logs.get(\"g_loss\")\n",
    "        if loss is not None:\n",
    "            if np.isnan(loss) or np.isinf(loss):\n",
    "                self.model.stop_training = True\n",
    "\n",
    "        \n",
    "class ModelSaveCheckpoint(tf.keras.callbacks.Callback):\n",
    "\n",
    "    def __init__(self, freq=1, directory='checkpoints', **kwargs):\n",
    "        super(ModelSaveCheckpoint, self).__init__()\n",
    "        assert freq > 0\n",
    "        self.freq = freq\n",
    "        self.directory = directory\n",
    "    \n",
    "    def on_epoch_end(self, epoch, logs=None):\n",
    "        os.makedirs(Path(os.getcwd(), self.directory), exist_ok=True)\n",
    "        if (epoch+1) % self.freq == 0:\n",
    "            self.model.generator.save_weights(Path(self.directory, f\"CalliGAN_generator_{epoch+1}.h5\"))\n",
    "            self.model.discriminator.save_weights(Path(self.directory, f\"CalliGAN_discriminator_{epoch+1}.h5\"))"
   ]
  },
  {
   "cell_type": "markdown",
   "id": "ccb5eea6",
   "metadata": {},
   "source": [
    "# 帮助函数"
   ]
  },
  {
   "cell_type": "code",
   "execution_count": 5,
   "id": "cd3ee458",
   "metadata": {
    "ExecuteTime": {
     "end_time": "2022-09-16T08:46:05.924890Z",
     "start_time": "2022-09-16T08:46:05.909379Z"
    }
   },
   "outputs": [],
   "source": [
    "def drawing_train_history(model_name, g_loss, d_loss):\n",
    "    plt.figure(figsize=(10, 16))\n",
    "    plt.rcParams['figure.figsize'] = [16, 9]\n",
    "    plt.rcParams['font.size'] = 14\n",
    "    plt.rcParams['axes.grid'] = True\n",
    "    plt.rcParams['figure.facecolor'] = 'white'\n",
    "    plt.subplot(2, 1, 2)\n",
    "    plt.plot(g_loss, label='Generator Loss')\n",
    "    plt.plot(d_loss, label='Discriminator Loss')\n",
    "    plt.legend(loc='upper right')\n",
    "    plt.ylabel('Cross Entropy')\n",
    "    plt.title(f'{model_name}')\n",
    "    plt.xlabel('epoch')\n",
    "    plt.tight_layout(pad=3.0)"
   ]
  },
  {
   "cell_type": "markdown",
   "id": "d7c8db6a",
   "metadata": {},
   "source": [
    "# 训练"
   ]
  },
  {
   "cell_type": "code",
   "execution_count": 6,
   "id": "c76ce47a",
   "metadata": {
    "ExecuteTime": {
     "end_time": "2022-09-16T08:46:05.940434Z",
     "start_time": "2022-09-16T08:46:05.927491Z"
    }
   },
   "outputs": [],
   "source": [
    "batch_size = 6\n",
    "epochs = 100\n",
    "initial_epoch = 92\n",
    "\n",
    "train_image_dir = 'datasets-with-paper/images/train'\n",
    "components_path = 'datasets-with-paper/components/hanzi2components.txt'"
   ]
  },
  {
   "cell_type": "markdown",
   "id": "6a4f95ca",
   "metadata": {},
   "source": [
    "## 使用 keras.Squeence 加载数据"
   ]
  },
  {
   "cell_type": "code",
   "execution_count": 7,
   "id": "0a3fa7e4",
   "metadata": {
    "ExecuteTime": {
     "end_time": "2022-09-16T08:46:06.096444Z",
     "start_time": "2022-09-16T08:46:05.943421Z"
    }
   },
   "outputs": [
    {
     "name": "stdout",
     "output_type": "stream",
     "text": [
      "47641 images found in datasets-with-paper/images/train\n"
     ]
    }
   ],
   "source": [
    "train_gen = CalliGANGenerator(batch_size=batch_size,\n",
    "                          images_path=train_image_dir,\n",
    "                          components_path=components_path, \n",
    "                            augment=True)"
   ]
  },
  {
   "cell_type": "markdown",
   "id": "2f50ecfd",
   "metadata": {},
   "source": [
    "## 编译模型"
   ]
  },
  {
   "cell_type": "code",
   "execution_count": 11,
   "id": "f53498bb",
   "metadata": {
    "ExecuteTime": {
     "end_time": "2022-09-16T08:46:13.505832Z",
     "start_time": "2022-09-16T08:46:06.113584Z"
    }
   },
   "outputs": [],
   "source": [
    "model = CalliGAN()\n",
    "model.compile(\n",
    "              g_optimizer=tf.keras.optimizers.Adam(learning_rate=0.001, beta_1=0.5, beta_2=0.999), \n",
    "              d_optimizer=tf.keras.optimizers.Adam(learning_rate=0.001, beta_1=0.5, beta_2=0.999), \n",
    "              pixel_wise_loss_fn=tf.keras.losses.MeanAbsoluteError(reduction=tf.keras.losses.Reduction.AUTO), \n",
    "              constancy_loss_fn=tf.keras.losses.MeanSquaredError(reduction=tf.keras.losses.Reduction.AUTO), \n",
    "              category_loss_fn=tf.keras.losses.CategoricalCrossentropy(reduction=tf.keras.losses.Reduction.AUTO),\n",
    "#               adversarial_loss_fn=tf.keras.losses.BinaryCrossentropy(from_logits=True, reduction=tf.keras.losses.Reduction.AUTO) # Standard GAN loss\n",
    "              adversarial_loss_fn=tf.keras.losses.MeanSquaredError(reduction=tf.keras.losses.Reduction.AUTO) # LSGAN loss\n",
    "              )\n",
    "if os.path.exists('CalliGAN_generator.h5'):\n",
    "    discard = model.generator([tf.zeros([1, 28]), tf.zeros([1, 256, 256, 1]), tf.zeros([1, 7])])\n",
    "    model.generator.load_weights('CalliGAN_generator.h5')\n",
    "if os.path.exists('CalliGAN_discriminator.h5'):\n",
    "    discard = model.discriminator(tf.zeros([1, 256, 256, 2]))\n",
    "    model.discriminator.load_weights('CalliGAN_discriminator.h5')"
   ]
  },
  {
   "cell_type": "code",
   "execution_count": 12,
   "id": "8def4062",
   "metadata": {
    "ExecuteTime": {
     "end_time": "2022-09-16T08:46:19.987552Z",
     "start_time": "2022-09-16T08:46:13.506883Z"
    },
    "scrolled": false
   },
   "outputs": [
    {
     "name": "stdout",
     "output_type": "stream",
     "text": [
      "Epoch 93/100\n",
      "4442/7940 [===============>..............] - ETA: 2:49:30 - g_loss: 12.6833 - d_loss: 0.0175"
     ]
    },
    {
     "name": "stderr",
     "output_type": "stream",
     "text": [
      "IOPub message rate exceeded.\n",
      "The notebook server will temporarily stop sending output\n",
      "to the client in order to avoid crashing it.\n",
      "To change this limit, set the config variable\n",
      "`--NotebookApp.iopub_msg_rate_limit`.\n",
      "\n",
      "Current values:\n",
      "NotebookApp.iopub_msg_rate_limit=1000.0 (msgs/sec)\n",
      "NotebookApp.rate_limit_window=3.0 (secs)\n",
      "\n"
     ]
    },
    {
     "name": "stdout",
     "output_type": "stream",
     "text": [
      "7940/7940 [==============================] - 23132s 3s/step - g_loss: 12.7430 - d_loss: 0.0175 - lr: 0.0010\n",
      "Epoch 94/100\n",
      "2029/7940 [======>.......................] - ETA: 4:47:03 - g_loss: 12.6164 - d_loss: 0.0137"
     ]
    },
    {
     "name": "stderr",
     "output_type": "stream",
     "text": [
      "IOPub message rate exceeded.\n",
      "The notebook server will temporarily stop sending output\n",
      "to the client in order to avoid crashing it.\n",
      "To change this limit, set the config variable\n",
      "`--NotebookApp.iopub_msg_rate_limit`.\n",
      "\n",
      "Current values:\n",
      "NotebookApp.iopub_msg_rate_limit=1000.0 (msgs/sec)\n",
      "NotebookApp.rate_limit_window=3.0 (secs)\n",
      "\n"
     ]
    },
    {
     "name": "stdout",
     "output_type": "stream",
     "text": [
      "7842/7940 [============================>.] - ETA: 4:45 - g_loss: 12.7467 - d_loss: 0.0164"
     ]
    },
    {
     "name": "stderr",
     "output_type": "stream",
     "text": [
      "IOPub message rate exceeded.\n",
      "The notebook server will temporarily stop sending output\n",
      "to the client in order to avoid crashing it.\n",
      "To change this limit, set the config variable\n",
      "`--NotebookApp.iopub_msg_rate_limit`.\n",
      "\n",
      "Current values:\n",
      "NotebookApp.iopub_msg_rate_limit=1000.0 (msgs/sec)\n",
      "NotebookApp.rate_limit_window=3.0 (secs)\n",
      "\n"
     ]
    },
    {
     "name": "stdout",
     "output_type": "stream",
     "text": [
      "5927/7940 [=====================>........] - ETA: 1:37:48 - g_loss: 12.6585 - d_loss: 0.0147"
     ]
    },
    {
     "name": "stderr",
     "output_type": "stream",
     "text": [
      "IOPub message rate exceeded.\n",
      "The notebook server will temporarily stop sending output\n",
      "to the client in order to avoid crashing it.\n",
      "To change this limit, set the config variable\n",
      "`--NotebookApp.iopub_msg_rate_limit`.\n",
      "\n",
      "Current values:\n",
      "NotebookApp.iopub_msg_rate_limit=1000.0 (msgs/sec)\n",
      "NotebookApp.rate_limit_window=3.0 (secs)\n",
      "\n"
     ]
    },
    {
     "name": "stdout",
     "output_type": "stream",
     "text": [
      "4075/7940 [==============>...............] - ETA: 3:07:22 - g_loss: 12.6284 - d_loss: 0.0160"
     ]
    },
    {
     "name": "stderr",
     "output_type": "stream",
     "text": [
      "IOPub message rate exceeded.\n",
      "The notebook server will temporarily stop sending output\n",
      "to the client in order to avoid crashing it.\n",
      "To change this limit, set the config variable\n",
      "`--NotebookApp.iopub_msg_rate_limit`.\n",
      "\n",
      "Current values:\n",
      "NotebookApp.iopub_msg_rate_limit=1000.0 (msgs/sec)\n",
      "NotebookApp.rate_limit_window=3.0 (secs)\n",
      "\n"
     ]
    },
    {
     "name": "stdout",
     "output_type": "stream",
     "text": [
      "3205/7940 [===========>..................] - ETA: 3:49:07 - g_loss: 12.5084 - d_loss: 0.0134"
     ]
    },
    {
     "name": "stderr",
     "output_type": "stream",
     "text": [
      "IOPub message rate exceeded.\n",
      "The notebook server will temporarily stop sending output\n",
      "to the client in order to avoid crashing it.\n",
      "To change this limit, set the config variable\n",
      "`--NotebookApp.iopub_msg_rate_limit`.\n",
      "\n",
      "Current values:\n",
      "NotebookApp.iopub_msg_rate_limit=1000.0 (msgs/sec)\n",
      "NotebookApp.rate_limit_window=3.0 (secs)\n",
      "\n"
     ]
    },
    {
     "name": "stdout",
     "output_type": "stream",
     "text": [
      "7940/7940 [==============================] - 23067s 3s/step - g_loss: 12.6792 - d_loss: 0.0160 - lr: 0.0010\n",
      "Epoch 98/100\n",
      "1537/7940 [====>.........................] - ETA: 5:09:34 - g_loss: 12.5182 - d_loss: 0.0123"
     ]
    },
    {
     "name": "stderr",
     "output_type": "stream",
     "text": [
      "IOPub message rate exceeded.\n",
      "The notebook server will temporarily stop sending output\n",
      "to the client in order to avoid crashing it.\n",
      "To change this limit, set the config variable\n",
      "`--NotebookApp.iopub_msg_rate_limit`.\n",
      "\n",
      "Current values:\n",
      "NotebookApp.iopub_msg_rate_limit=1000.0 (msgs/sec)\n",
      "NotebookApp.rate_limit_window=3.0 (secs)\n",
      "\n"
     ]
    },
    {
     "name": "stdout",
     "output_type": "stream",
     "text": [
      "7940/7940 [==============================] - 23030s 3s/step - g_loss: 12.6605 - d_loss: 0.0153 - lr: 0.0010\n",
      "Epoch 99/100\n",
      "2290/7940 [=======>......................] - ETA: 4:34:14 - g_loss: 12.4917 - d_loss: 0.0136"
     ]
    },
    {
     "name": "stderr",
     "output_type": "stream",
     "text": [
      "IOPub message rate exceeded.\n",
      "The notebook server will temporarily stop sending output\n",
      "to the client in order to avoid crashing it.\n",
      "To change this limit, set the config variable\n",
      "`--NotebookApp.iopub_msg_rate_limit`.\n",
      "\n",
      "Current values:\n",
      "NotebookApp.iopub_msg_rate_limit=1000.0 (msgs/sec)\n",
      "NotebookApp.rate_limit_window=3.0 (secs)\n",
      "\n"
     ]
    },
    {
     "name": "stdout",
     "output_type": "stream",
     "text": [
      "7940/7940 [==============================] - 23117s 3s/step - g_loss: 12.6424 - d_loss: 0.0149 - lr: 0.0010\n",
      "Epoch 100/100\n",
      "3269/7940 [===========>..................] - ETA: 3:47:24 - g_loss: 12.5020 - d_loss: 0.0146"
     ]
    },
    {
     "name": "stderr",
     "output_type": "stream",
     "text": [
      "IOPub message rate exceeded.\n",
      "The notebook server will temporarily stop sending output\n",
      "to the client in order to avoid crashing it.\n",
      "To change this limit, set the config variable\n",
      "`--NotebookApp.iopub_msg_rate_limit`.\n",
      "\n",
      "Current values:\n",
      "NotebookApp.iopub_msg_rate_limit=1000.0 (msgs/sec)\n",
      "NotebookApp.rate_limit_window=3.0 (secs)\n",
      "\n"
     ]
    },
    {
     "name": "stdout",
     "output_type": "stream",
     "text": [
      "7940/7940 [==============================] - 23069s 3s/step - g_loss: 12.6627 - d_loss: 0.0151 - lr: 0.0010\n"
     ]
    }
   ],
   "source": [
    "history = model.fit(train_gen, \n",
    "                    epochs=epochs,\n",
    "                    initial_epoch=initial_epoch,\n",
    "                    callbacks=[\n",
    "                        tf.keras.callbacks.ReduceLROnPlateau(monitor='g_loss', factor=0.90, patience=3, mode='min'),\n",
    "                        tf.keras.callbacks.EarlyStopping(monitor='g_loss', patience=5, restore_best_weights=True, mode='min'),\n",
    "                        ModelSaveCheckpoint(),\n",
    "                        TerminateOnNaN()\n",
    "                  ])"
   ]
  },
  {
   "cell_type": "markdown",
   "id": "94d4fb6d",
   "metadata": {},
   "source": [
    "## 绘制训练日志"
   ]
  },
  {
   "cell_type": "code",
   "execution_count": 13,
   "id": "d961714c",
   "metadata": {
    "ExecuteTime": {
     "end_time": "2022-09-16T08:46:19.994434Z",
     "start_time": "2022-09-16T08:46:19.994434Z"
    }
   },
   "outputs": [
    {
     "data": {
      "image/png": "[encoded data removed]",
      "text/plain": [
       "<Figure size 1000x1600 with 1 Axes>"
      ]
     },
     "metadata": {},
     "output_type": "display_data"
    }
   ],
   "source": [
    "g_loss = history.history['g_loss']\n",
    "d_loss = history.history['d_loss']\n",
    "drawing_train_history('CalliGAN', g_loss, d_loss)"
   ]
  },
  {
   "cell_type": "markdown",
   "id": "f1b7e8d2",
   "metadata": {},
   "source": [
    "## 保存模型"
   ]
  },
  {
   "cell_type": "code",
   "execution_count": 14,
   "id": "b9255a0d",
   "metadata": {
    "ExecuteTime": {
     "end_time": "2022-09-16T08:46:19.996427Z",
     "start_time": "2022-09-16T08:46:19.996427Z"
    }
   },
   "outputs": [],
   "source": [
    "model.generator.save_weights(\"CalliGAN_generator.h5\")\n",
    "model.discriminator.save_weights(\"CalliGAN_discriminator.h5\")"
   ]
  },
  {
   "cell_type": "code",
   "execution_count": null,
   "id": "f69c536d",
   "metadata": {},
   "outputs": [],
   "source": []
  }
 ],
 "metadata": {
  "hide_input": false,
  "kernelspec": {
   "display_name": "Python 3 (ipykernel)",
   "language": "python",
   "name": "python3"
  },
  "language_info": {
   "codemirror_mode": {
    "name": "ipython",
    "version": 3
   },
   "file_extension": ".py",
   "mimetype": "text/x-python",
   "name": "python",
   "nbconvert_exporter": "python",
   "pygments_lexer": "ipython3",
   "version": "3.10.4"
  },
  "latex_envs": {
   "LaTeX_envs_menu_present": true,
   "autoclose": false,
   "autocomplete": true,
   "bibliofile": "biblio.bib",
   "cite_by": "apalike",
   "current_citInitial": 1,
   "eqLabelWithNumbers": true,
   "eqNumInitial": 1,
   "hotkeys": {
    "equation": "Ctrl-E",
    "itemize": "Ctrl-I"
   },
   "labels_anchors": false,
   "latex_user_defs": false,
   "report_style_numbering": false,
   "user_envs_cfg": false
  },
  "toc": {
   "base_numbering": 1,
   "nav_menu": {},
   "number_sections": true,
   "sideBar": true,
   "skip_h1_title": false,
   "title_cell": "Table of Contents",
   "title_sidebar": "Contents",
   "toc_cell": false,
   "toc_position": {
    "height": "calc(100% - 180px)",
    "left": "10px",
    "top": "150px",
    "width": "165px"
   },
   "toc_section_display": true,
   "toc_window_display": true
  },
  "vscode": {
   "interpreter": {
    "hash": "c52302626cefc0a3d8a7dcef2f9b8af2b2cbed612fddde53f56bdae6cc08627a"
   }
  }
 },
 "nbformat": 4,
 "nbformat_minor": 5
}
